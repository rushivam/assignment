{
  "cells": [
    {
      "cell_type": "markdown",
      "metadata": {
        "id": "kU6Uuu0Z-3H0"
      },
      "source": [
        "#**TOPIC: Python Basics Variable**"
      ]
    },
    {
      "cell_type": "markdown",
      "metadata": {
        "id": "S2Ze3IOH9QtY"
      },
      "source": [
        "**1. Declare two variables, `x` and `y`, and assign them integer values. Swap the values of these variables without using any temporary variable.**\n",
        "\n"
      ]
    },
    {
      "cell_type": "code",
      "execution_count": null,
      "metadata": {
        "colab": {
          "base_uri": "https://localhost:8080/"
        },
        "id": "WLSUIJcA97Ax",
        "outputId": "b58eabbc-b6f3-4fe7-b9ad-ba6f29f48533"
      },
      "outputs": [
        {
          "output_type": "stream",
          "name": "stdout",
          "text": [
            "Before swap asign value x: '5' and y: '10'\n",
            "After swap asign value x: '10' and y: '5'\n"
          ]
        }
      ],
      "source": [
        "#Step 1: Declare and initialize two variables x and y:\n",
        "x = 5\n",
        "y = 10\n",
        "\n",
        "#Create fucntion to swap variables:\n",
        "def swap_variable(x,y):\n",
        "\n",
        "  # For print asign value before swap:\n",
        "  print(f\"Before swap asign value x: '{x}' and y: '{y}'\")\n",
        "\n",
        "  #For swap the variables :\n",
        "  x,y = y,x\n",
        "\n",
        "  # For print asign value after swap:\n",
        "  print(f\"After swap asign value x: '{x}' and y: '{y}'\")\n",
        "\n",
        "# Swap variables using the function\n",
        "swap_variable(x,y)\n",
        "\n",
        "\n"
      ]
    },
    {
      "cell_type": "markdown",
      "metadata": {
        "id": "ZP0yf6X298Ru"
      },
      "source": [
        "**2. Create a program that calculates the area of a rectangle. Take the length and width as inputs from the user and store them in variables. Calculate and display the area.**"
      ]
    },
    {
      "cell_type": "code",
      "execution_count": null,
      "metadata": {
        "id": "lgqHKBzA_fK5",
        "colab": {
          "base_uri": "https://localhost:8080/"
        },
        "outputId": "d554cdcc-e83b-4594-d32e-fe3d1177bb39"
      },
      "outputs": [
        {
          "output_type": "stream",
          "name": "stdout",
          "text": [
            "Enter the length of the rectangle : 20\n",
            "Enter the width of the rectangle : 40\n",
            "Your input for rectangle area legth is '20.0' and width is '40.0', the calculated area of rectangle is'800.0'.\n"
          ]
        }
      ],
      "source": [
        "# Take user input for length and width\n",
        "length = float(input(\"Enter the length of the rectangle : \"))\n",
        "width = float(input(\"Enter the width of the rectangle : \"))\n",
        "\n",
        "# Calculate area of rectangle usig farmula: area = length * width\n",
        "area = length * width\n",
        "\n",
        "# Display the result\n",
        "print(f\"Your input for rectangle area legth is '{length}' and width is '{width}', the calculated area of rectangle is'{area}'.\")\n",
        "\n"
      ]
    },
    {
      "cell_type": "markdown",
      "metadata": {
        "id": "P15XR-AF98lo"
      },
      "source": [
        "**3. Write a Python program that converts temperatures from Celsius to\n",
        "Fahrenheit. Take the temperature in Celsius as input, store it in a variable,\n",
        "convert it to Fahrenheit, and display the result.**"
      ]
    },
    {
      "cell_type": "code",
      "execution_count": null,
      "metadata": {
        "colab": {
          "base_uri": "https://localhost:8080/"
        },
        "id": "9OAG5U8ODTOf",
        "outputId": "3da07cac-dadb-429d-e69f-5df0fe5ae53a"
      },
      "outputs": [
        {
          "output_type": "stream",
          "name": "stdout",
          "text": [
            "Enter temperature in Celsius: 20\n",
            "20 degrees Celsius is equal to 68 degrees Fahrenheit.\n"
          ]
        }
      ],
      "source": [
        "# Take the temperature from the user in Celsius\n",
        "celsius = float(input(\"Enter temperature in Celsius: \"))\n",
        "\n",
        "# Convert Celsius to Fahrenheit using the formula: F = (9/5 * C) + 32\n",
        "fahrenheit = (9/5 * celsius ) + 32\n",
        "\n",
        "# Display the converted temperature in Fahrenheit\n",
        "print(f\"{int(celsius)} degrees Celsius is equal to {int(fahrenheit)} degrees Fahrenheit.\")\n",
        "\n"
      ]
    },
    {
      "cell_type": "markdown",
      "metadata": {
        "id": "KTNRht4Q_AFw"
      },
      "source": [
        "#**TOPIC: String Based Questions**"
      ]
    },
    {
      "cell_type": "markdown",
      "metadata": {
        "id": "S0MPI1TM-jMN"
      },
      "source": [
        "**1. Write a Python program that takes a string as input and prints the length of the string.**"
      ]
    },
    {
      "cell_type": "code",
      "source": [
        "# For user input as a stirng\n",
        "user_string = input(\"Enter a string : \")\n",
        "\n",
        "# For check the length of user input string\n",
        "length_string = len(user_string)\n",
        "\n",
        "# Display the result\n",
        "print(f\"String you entered is '{user_string}' and the length of string is '{length_string}'\")"
      ],
      "metadata": {
        "id": "5MI4JGnzMNIF",
        "colab": {
          "base_uri": "https://localhost:8080/"
        },
        "outputId": "12e55f20-7ec1-40c7-95f4-ea5baa106bc4"
      },
      "execution_count": null,
      "outputs": [
        {
          "output_type": "stream",
          "name": "stdout",
          "text": [
            "Enter a string : Shivam\n",
            "String you entered is 'Shivam' and the length of string is '6'\n"
          ]
        }
      ]
    },
    {
      "cell_type": "markdown",
      "metadata": {
        "id": "_FVyVP_e-jXC"
      },
      "source": [
        "**2. Create a program that takes a sentence from the user and counts the number\n",
        "of vowels (a, e, i, o, u) in the string.**"
      ]
    },
    {
      "cell_type": "code",
      "execution_count": null,
      "metadata": {
        "id": "kqRlCVX4_nrR",
        "colab": {
          "base_uri": "https://localhost:8080/"
        },
        "outputId": "29f26395-9c1f-4a08-8b8a-bb0376bc81a0"
      },
      "outputs": [
        {
          "output_type": "stream",
          "name": "stdout",
          "text": [
            "Enter a sentence : aEbed\n",
            "Sentence you entered is 'aEbed' and count of vowels is '3'. \n"
          ]
        }
      ],
      "source": [
        "# Get user input of sentence\n",
        "sentence = input(\"Enter a sentence : \")\n",
        "\n",
        "# Declare the vowels\n",
        "vowels = (\"aeiou\")\n",
        "\n",
        "# Creating a function to count vowels in sentence\n",
        "def count_vowels(x):\n",
        "        vowels_count =  0\n",
        "        for char in sentence.lower():\n",
        "            if char in vowels:\n",
        "                vowels_count += 1\n",
        "        return vowels_count\n",
        "result = count_vowels(sentence)\n",
        "\n",
        "# Display the result\n",
        "print(f\"Sentence you entered is '{sentence}' and count of vowels is '{result}'. \")"
      ]
    },
    {
      "cell_type": "markdown",
      "metadata": {
        "id": "S603tJ9W-jh5"
      },
      "source": [
        "**3. Given a string, reverse the order of characters using string slicing and print the reversed string.**"
      ]
    },
    {
      "cell_type": "code",
      "execution_count": null,
      "metadata": {
        "id": "RhV0hTxF_m2_",
        "colab": {
          "base_uri": "https://localhost:8080/"
        },
        "outputId": "2324a23d-b62b-424e-ed4a-680956c3b0b1"
      },
      "outputs": [
        {
          "output_type": "stream",
          "name": "stdout",
          "text": [
            "Enter a string : mavhis\n",
            "Your given string is 'mavhis' and the reversed string is 'sihvam'.\n"
          ]
        }
      ],
      "source": [
        "# Get user input as a string\n",
        "user_string = input(\"Enter a string : \")\n",
        "\n",
        "# Reverse the order of the characters using string slicing [start:stop:step]\n",
        "reversed_string = user_string[::-1]\n",
        "\n",
        "# Display the result\n",
        "print(f\"Your given string is '{user_string}' and the reversed string is '{reversed_string}'.\")"
      ]
    },
    {
      "cell_type": "markdown",
      "metadata": {
        "id": "Ee6RP_my-jtc"
      },
      "source": [
        "**4. Write a program that takes a string as input and checks if it is a palindrome(reads the same forwards and backwards).**"
      ]
    },
    {
      "cell_type": "code",
      "execution_count": null,
      "metadata": {
        "id": "M0cBevlg_obK",
        "colab": {
          "base_uri": "https://localhost:8080/"
        },
        "outputId": "a055df14-acf4-41a8-b932-083aef29511a"
      },
      "outputs": [
        {
          "output_type": "stream",
          "name": "stdout",
          "text": [
            "Enter a string : maam\n",
            "The string you entered reads as 'maam' forwards and 'maam' backwards, making it a palindrome.\n"
          ]
        }
      ],
      "source": [
        "# Get user input as a string\n",
        "user_string = input(\"Enter a string : \")\n",
        "\n",
        "# Reverse the order of the characters using string slicing [start:stop:step]\n",
        "reversed_string = user_string[::-1]\n",
        "\n",
        "# Check user input is Palindrome True or False using IF condition\n",
        "if user_string == reversed_string :\n",
        "    result = (\"making it a palindrome.\")\n",
        "else :\n",
        "    result = (\"making not it a palindrome.\")\n",
        "print(f\"The string you entered reads as '{user_string}' forwards and '{reversed_string}' backwards, {result}\")"
      ]
    },
    {
      "cell_type": "markdown",
      "metadata": {
        "id": "uJrZcjqe-j4e"
      },
      "source": [
        "**5. Create a program that takes a string as input and removes all the spaces from it. Print the modified string without spaces.**"
      ]
    },
    {
      "cell_type": "code",
      "execution_count": 1,
      "metadata": {
        "id": "GqZUGSFIFkNw",
        "colab": {
          "base_uri": "https://localhost:8080/"
        },
        "outputId": "3e0632d3-9b8c-426a-ad28-f593fafc6fd8"
      },
      "outputs": [
        {
          "output_type": "stream",
          "name": "stdout",
          "text": [
            " Enter a string : S h i va m\n",
            "The string you entered is 'S h i va m', string without space is 'Shivam'.\n"
          ]
        }
      ],
      "source": [
        "# Get user input as a string\n",
        "user_string = input(\" Enter a string : \")\n",
        "\n",
        "# Create a function to reomve space form user input\n",
        "def remove_space(x):\n",
        "\n",
        "    new_stirng = x.replace(\" \", \"\")\n",
        "\n",
        "    print(f\"The string you entered is '{x}', string without space is '{new_stirng}'.\")\n",
        "\n",
        "# Display the result calling funtion\n",
        "remove_space(user_string)"
      ]
    },
    {
      "cell_type": "code",
      "source": [],
      "metadata": {
        "id": "9NfS3h4aRmyS"
      },
      "execution_count": null,
      "outputs": []
    }
  ],
  "metadata": {
    "colab": {
      "provenance": []
    },
    "kernelspec": {
      "display_name": "Python 3",
      "name": "python3"
    },
    "language_info": {
      "name": "python"
    }
  },
  "nbformat": 4,
  "nbformat_minor": 0
}